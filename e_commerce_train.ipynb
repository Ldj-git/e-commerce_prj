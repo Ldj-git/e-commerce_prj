{
  "cells": [
    {
      "cell_type": "markdown",
      "metadata": {
        "id": "view-in-github",
        "colab_type": "text"
      },
      "source": [
        "<a href=\"https://colab.research.google.com/github/Ldj-git/e-commerce_prj/blob/master/e_commerce_train.ipynb\" target=\"_parent\"><img src=\"https://colab.research.google.com/assets/colab-badge.svg\" alt=\"Open In Colab\"/></a>"
      ]
    },
    {
      "cell_type": "markdown",
      "metadata": {
        "id": "1WiGr3BR6QTF"
      },
      "source": [
        "# 데이터 로드\n",
        "- 구글 드라이브에서 압축된 데이터셋을 받아 압축을 풀고 webp같은 지원하지 않는 확장자는 지웁니다."
      ]
    },
    {
      "cell_type": "code",
      "source": [
        "! gdown https://drive.google.com/uc?id=1mQV9DDmNQR99aLnvjosqgkwXXn_q1bjU"
      ],
      "metadata": {
        "colab": {
          "base_uri": "https://localhost:8080/"
        },
        "id": "5DXGxpbUVyWc",
        "outputId": "e96d8646-9e59-4a7d-b0d6-28f7adfcfe9e"
      },
      "execution_count": 1,
      "outputs": [
        {
          "output_type": "stream",
          "name": "stdout",
          "text": [
            "Downloading...\n",
            "From: https://drive.google.com/uc?id=1mQV9DDmNQR99aLnvjosqgkwXXn_q1bjU\n",
            "To: /content/food_img.zip\n",
            "100% 45.4M/45.4M [00:00<00:00, 54.8MB/s]\n"
          ]
        }
      ]
    },
    {
      "cell_type": "code",
      "source": [
        "!unzip -qq '/content/food_img.zip'"
      ],
      "metadata": {
        "id": "qpLkczCqZBbD"
      },
      "execution_count": 2,
      "outputs": []
    },
    {
      "cell_type": "code",
      "source": [
        "!mkdir food_img_data"
      ],
      "metadata": {
        "id": "cHDiktEKZUCT"
      },
      "execution_count": 3,
      "outputs": []
    },
    {
      "cell_type": "code",
      "source": [
        "!mv ./감자 ./food_img_data\n",
        "!mv ./김치 ./food_img_data\n",
        "!mv ./대파 ./food_img_data"
      ],
      "metadata": {
        "id": "CjFfMtRSZaAD"
      },
      "execution_count": 4,
      "outputs": []
    },
    {
      "cell_type": "code",
      "execution_count": 5,
      "metadata": {
        "id": "2nI7pp6S6QTP"
      },
      "outputs": [],
      "source": [
        "from pathlib import Path\n",
        "import imghdr\n",
        "import os\n",
        "\n",
        "data_dir = \"/content/food_img_data\"\n",
        "image_extensions = [\".png\", \".jpg\"]  # add there all your images file extensions\n",
        "\n",
        "img_type_accepted_by_tf = [\"bmp\", \"gif\", \"jpeg\", \"png\"]\n",
        "for filepath in Path(data_dir).rglob(\"*\"):\n",
        "    if filepath.suffix.lower() in image_extensions:\n",
        "        img_type = imghdr.what(filepath)\n",
        "        if img_type is None:\n",
        "            print(f\"{filepath} is not an image\")\n",
        "            os.remove(filepath)\n",
        "        elif img_type not in img_type_accepted_by_tf:\n",
        "            print(f\"{filepath} is a {img_type}, not accepted by TensorFlow\")\n",
        "            os.remove(filepath)"
      ]
    },
    {
      "cell_type": "markdown",
      "metadata": {
        "id": "ePx8Vegu6QTQ"
      },
      "source": [
        "# 학습, 검증 데이터 분류, 배치 사이즈 할당"
      ]
    },
    {
      "cell_type": "code",
      "execution_count": 6,
      "metadata": {
        "id": "ZFm1Hx0F6QTR"
      },
      "outputs": [],
      "source": [
        "import numpy as np\n",
        "import PIL\n",
        "import tensorflow as tf\n",
        "\n",
        "from tensorflow import keras\n",
        "from tensorflow.keras import layers\n",
        "from tensorflow.keras.models import Sequential"
      ]
    },
    {
      "cell_type": "code",
      "execution_count": 7,
      "metadata": {
        "colab": {
          "base_uri": "https://localhost:8080/"
        },
        "id": "e6vOfO8y6QTS",
        "outputId": "68b60aca-2717-4c95-eac6-f29021d13aa6"
      },
      "outputs": [
        {
          "output_type": "stream",
          "name": "stdout",
          "text": [
            "424\n"
          ]
        }
      ],
      "source": [
        "import pathlib\n",
        "\n",
        "data_dir = pathlib.Path(\"/content/food_img_data\")\n",
        "image_count = len(list(data_dir.glob('*/*.jpg')))\n",
        "print(image_count)"
      ]
    },
    {
      "cell_type": "code",
      "execution_count": 8,
      "metadata": {
        "colab": {
          "base_uri": "https://localhost:8080/"
        },
        "id": "n4Jhf-x66QTS",
        "outputId": "47227a7f-5146-48e7-80cf-deba57005955"
      },
      "outputs": [
        {
          "output_type": "stream",
          "name": "stdout",
          "text": [
            "Found 424 files belonging to 3 classes.\n",
            "Using 340 files for training.\n"
          ]
        }
      ],
      "source": [
        "batch_size = 32\n",
        "img_height = 224\n",
        "img_width = 224\n",
        "\n",
        "train_ds = tf.keras.preprocessing.image_dataset_from_directory(\n",
        "  data_dir,\n",
        "  validation_split=0.2,\n",
        "  subset=\"training\",\n",
        "  seed=123,\n",
        "  image_size=(img_height, img_width),\n",
        "  batch_size=batch_size)"
      ]
    },
    {
      "cell_type": "code",
      "execution_count": 9,
      "metadata": {
        "colab": {
          "base_uri": "https://localhost:8080/"
        },
        "id": "IGDdUFZt6QTT",
        "outputId": "4d5a7445-774b-49d0-dadd-addc73217afb"
      },
      "outputs": [
        {
          "output_type": "stream",
          "name": "stdout",
          "text": [
            "Found 424 files belonging to 3 classes.\n",
            "Using 84 files for validation.\n"
          ]
        }
      ],
      "source": [
        "val_ds = tf.keras.preprocessing.image_dataset_from_directory(\n",
        "  data_dir,\n",
        "  validation_split=0.2,\n",
        "  subset=\"validation\",\n",
        "  seed=123,\n",
        "  image_size=(img_height, img_width),\n",
        "  batch_size=batch_size)"
      ]
    },
    {
      "cell_type": "code",
      "execution_count": 10,
      "metadata": {
        "colab": {
          "base_uri": "https://localhost:8080/"
        },
        "id": "fs5hKtBE6QTU",
        "outputId": "5520c975-d8ad-498a-8b14-f662a41c2ad3"
      },
      "outputs": [
        {
          "output_type": "stream",
          "name": "stdout",
          "text": [
            "['감자', '김치', '대파']\n"
          ]
        }
      ],
      "source": [
        "class_names = train_ds.class_names\n",
        "print(class_names)"
      ]
    },
    {
      "cell_type": "markdown",
      "metadata": {
        "id": "lcErtSRd6QTV"
      },
      "source": [
        "# 데이터 표준화, 성능을 높이도록 데이터세트 구성"
      ]
    },
    {
      "cell_type": "code",
      "execution_count": 11,
      "metadata": {
        "colab": {
          "base_uri": "https://localhost:8080/"
        },
        "id": "gnaKC1rV6QTW",
        "outputId": "fbfda1b2-b9d5-43b9-923e-d6f4367a8452"
      },
      "outputs": [
        {
          "output_type": "stream",
          "name": "stdout",
          "text": [
            "(32, 224, 224, 3)\n",
            "(32,)\n"
          ]
        }
      ],
      "source": [
        "for image_batch, labels_batch in train_ds:\n",
        "  print(image_batch.shape)\n",
        "  print(labels_batch.shape)\n",
        "  break"
      ]
    },
    {
      "cell_type": "code",
      "execution_count": 12,
      "metadata": {
        "colab": {
          "base_uri": "https://localhost:8080/"
        },
        "id": "yAdfdxzY6QTW",
        "outputId": "58e6a689-c84e-40f3-c1f3-8e792df55a58"
      },
      "outputs": [
        {
          "output_type": "stream",
          "name": "stdout",
          "text": [
            "0.0 1.0\n"
          ]
        }
      ],
      "source": [
        "AUTOTUNE = tf.data.experimental.AUTOTUNE\n",
        "\n",
        "train_ds = train_ds.cache().shuffle(1000).prefetch(buffer_size=AUTOTUNE)\n",
        "val_ds = val_ds.cache().prefetch(buffer_size=AUTOTUNE)\n",
        "\n",
        "normalization_layer = layers.experimental.preprocessing.Rescaling(1./255)\n",
        "\n",
        "normalized_ds = train_ds.map(lambda x, y: (normalization_layer(x), y))\n",
        "image_batch, labels_batch = next(iter(normalized_ds))\n",
        "first_image = image_batch[0]\n",
        "# Notice the pixels values are now in `[0,1]`.\n",
        "print(np.min(first_image), np.max(first_image))"
      ]
    },
    {
      "cell_type": "markdown",
      "source": [
        "# CNN 학습\n",
        "- 이게 제일 정확도 높긴하네요.\n",
        "- 모델 용량도 60mb정도로 작고"
      ],
      "metadata": {
        "id": "_bir5Yxe610V"
      }
    },
    {
      "cell_type": "code",
      "source": [
        "num_classes = 3\n",
        "\n",
        "data_augmentation = keras.Sequential(\n",
        "  [\n",
        "    layers.experimental.preprocessing.RandomFlip(\"horizontal\", \n",
        "                                                 input_shape=(img_height, \n",
        "                                                              img_width,\n",
        "                                                              3)),\n",
        "    layers.experimental.preprocessing.RandomRotation(0.1),\n",
        "    layers.experimental.preprocessing.RandomZoom(0.1),\n",
        "  ]\n",
        ")\n",
        "\n",
        "model = Sequential([\n",
        "  data_augmentation,\n",
        "  layers.experimental.preprocessing.Rescaling(1./255),\n",
        "  layers.Conv2D(16, 3, padding='same', activation='relu'),\n",
        "  layers.MaxPooling2D(),\n",
        "  layers.Conv2D(32, 3, padding='same', activation='relu'),\n",
        "  layers.MaxPooling2D(),\n",
        "  layers.Conv2D(64, 3, padding='same', activation='relu'),\n",
        "  layers.MaxPooling2D(),\n",
        "  layers.Dropout(0.2),\n",
        "  layers.Flatten(),\n",
        "  layers.Dense(128, activation='relu'),\n",
        "  layers.Dense(num_classes)\n",
        "])\n",
        "\n",
        "model.compile(optimizer='adam',\n",
        "              loss=tf.keras.losses.SparseCategoricalCrossentropy(from_logits=True),\n",
        "              metrics=['accuracy'])\n",
        "\n",
        "model.summary()"
      ],
      "metadata": {
        "colab": {
          "base_uri": "https://localhost:8080/"
        },
        "id": "Hnh4fBXr64G8",
        "outputId": "3f057bf5-3a22-4e5e-e456-aeff5eb18e11"
      },
      "execution_count": 34,
      "outputs": [
        {
          "output_type": "stream",
          "name": "stdout",
          "text": [
            "Model: \"sequential_6\"\n",
            "_________________________________________________________________\n",
            " Layer (type)                Output Shape              Param #   \n",
            "=================================================================\n",
            " sequential_5 (Sequential)   (None, 224, 224, 3)       0         \n",
            "                                                                 \n",
            " rescaling_6 (Rescaling)     (None, 224, 224, 3)       0         \n",
            "                                                                 \n",
            " conv2d (Conv2D)             (None, 224, 224, 16)      448       \n",
            "                                                                 \n",
            " max_pooling2d_3 (MaxPooling  (None, 112, 112, 16)     0         \n",
            " 2D)                                                             \n",
            "                                                                 \n",
            " conv2d_1 (Conv2D)           (None, 112, 112, 32)      4640      \n",
            "                                                                 \n",
            " max_pooling2d_4 (MaxPooling  (None, 56, 56, 32)       0         \n",
            " 2D)                                                             \n",
            "                                                                 \n",
            " conv2d_2 (Conv2D)           (None, 56, 56, 64)        18496     \n",
            "                                                                 \n",
            " max_pooling2d_5 (MaxPooling  (None, 28, 28, 64)       0         \n",
            " 2D)                                                             \n",
            "                                                                 \n",
            " dropout (Dropout)           (None, 28, 28, 64)        0         \n",
            "                                                                 \n",
            " flatten (Flatten)           (None, 50176)             0         \n",
            "                                                                 \n",
            " dense (Dense)               (None, 128)               6422656   \n",
            "                                                                 \n",
            " dense_1 (Dense)             (None, 3)                 387       \n",
            "                                                                 \n",
            "=================================================================\n",
            "Total params: 6,446,627\n",
            "Trainable params: 6,446,627\n",
            "Non-trainable params: 0\n",
            "_________________________________________________________________\n"
          ]
        }
      ]
    },
    {
      "cell_type": "code",
      "source": [
        "epochs = 15\n",
        "history = model.fit(\n",
        "  train_ds,\n",
        "  validation_data=val_ds,\n",
        "  epochs=epochs\n",
        ")"
      ],
      "metadata": {
        "colab": {
          "base_uri": "https://localhost:8080/"
        },
        "id": "2okcD-Wz7xs1",
        "outputId": "e98dd56e-c048-459d-ad51-b7c066c24900"
      },
      "execution_count": 35,
      "outputs": [
        {
          "output_type": "stream",
          "name": "stdout",
          "text": [
            "Epoch 1/15\n",
            "11/11 [==============================] - 2s 87ms/step - loss: 1.6360 - accuracy: 0.4853 - val_loss: 0.8316 - val_accuracy: 0.6429\n",
            "Epoch 2/15\n",
            "11/11 [==============================] - 1s 51ms/step - loss: 0.5718 - accuracy: 0.7500 - val_loss: 0.5543 - val_accuracy: 0.7024\n",
            "Epoch 3/15\n",
            "11/11 [==============================] - 1s 51ms/step - loss: 0.3156 - accuracy: 0.8618 - val_loss: 0.4059 - val_accuracy: 0.8571\n",
            "Epoch 4/15\n",
            "11/11 [==============================] - 1s 51ms/step - loss: 0.2298 - accuracy: 0.9235 - val_loss: 0.2523 - val_accuracy: 0.8929\n",
            "Epoch 5/15\n",
            "11/11 [==============================] - 1s 50ms/step - loss: 0.1654 - accuracy: 0.9294 - val_loss: 0.1770 - val_accuracy: 0.9286\n",
            "Epoch 6/15\n",
            "11/11 [==============================] - 1s 49ms/step - loss: 0.1151 - accuracy: 0.9500 - val_loss: 0.1554 - val_accuracy: 0.9405\n",
            "Epoch 7/15\n",
            "11/11 [==============================] - 1s 50ms/step - loss: 0.1257 - accuracy: 0.9412 - val_loss: 0.1418 - val_accuracy: 0.9405\n",
            "Epoch 8/15\n",
            "11/11 [==============================] - 1s 50ms/step - loss: 0.1263 - accuracy: 0.9441 - val_loss: 0.2236 - val_accuracy: 0.9286\n",
            "Epoch 9/15\n",
            "11/11 [==============================] - 1s 53ms/step - loss: 0.1010 - accuracy: 0.9706 - val_loss: 0.1371 - val_accuracy: 0.9643\n",
            "Epoch 10/15\n",
            "11/11 [==============================] - 1s 50ms/step - loss: 0.0963 - accuracy: 0.9588 - val_loss: 0.1699 - val_accuracy: 0.9405\n",
            "Epoch 11/15\n",
            "11/11 [==============================] - 1s 51ms/step - loss: 0.0695 - accuracy: 0.9765 - val_loss: 0.1359 - val_accuracy: 0.9405\n",
            "Epoch 12/15\n",
            "11/11 [==============================] - 1s 51ms/step - loss: 0.0449 - accuracy: 0.9794 - val_loss: 0.2505 - val_accuracy: 0.9167\n",
            "Epoch 13/15\n",
            "11/11 [==============================] - 1s 52ms/step - loss: 0.0517 - accuracy: 0.9882 - val_loss: 0.1025 - val_accuracy: 0.9643\n",
            "Epoch 14/15\n",
            "11/11 [==============================] - 1s 53ms/step - loss: 0.0274 - accuracy: 0.9941 - val_loss: 0.1880 - val_accuracy: 0.9286\n",
            "Epoch 15/15\n",
            "11/11 [==============================] - 1s 51ms/step - loss: 0.0276 - accuracy: 0.9853 - val_loss: 0.1917 - val_accuracy: 0.9524\n"
          ]
        }
      ]
    },
    {
      "cell_type": "code",
      "source": [
        "def graph(history):\n",
        "    acc = history.history['accuracy']\n",
        "    val_acc = history.history['val_accuracy']\n",
        "\n",
        "    loss=history.history['loss']\n",
        "    val_loss=history.history['val_loss']\n",
        "\n",
        "    # epochs_range =  history.epochs-history.initial_epoch #range(epochs)\n",
        "    epochs_range = range(epochs)\n",
        "\n",
        "    plt.figure(figsize=(8, 8))\n",
        "    plt.subplot(1, 2, 1)\n",
        "    plt.plot(epochs_range, acc, label='Training Accuracy')\n",
        "    plt.plot(epochs_range, val_acc, label='Validation Accuracy')\n",
        "    plt.legend(loc='lower right')\n",
        "    plt.title('Training and Validation Accuracy')\n",
        "\n",
        "    plt.subplot(1, 2, 2)\n",
        "    plt.plot(epochs_range, loss, label='Training Loss')\n",
        "    plt.plot(epochs_range, val_loss, label='Validation Loss')\n",
        "    plt.legend(loc='upper right')\n",
        "    plt.title('Training and Validation Loss')\n",
        "    plt.show()\n",
        "\n",
        "import matplotlib.pyplot as plt\n",
        "graph(history)"
      ],
      "metadata": {
        "colab": {
          "base_uri": "https://localhost:8080/",
          "height": 499
        },
        "id": "qeJ8lGmO74mK",
        "outputId": "21bfbf68-d2af-44d4-9074-333202f9f9c2"
      },
      "execution_count": 36,
      "outputs": [
        {
          "output_type": "display_data",
          "data": {
            "text/plain": [
              "<Figure size 576x576 with 2 Axes>"
            ],
            "image/png": "[encoded data removed]"
          },
          "metadata": {
            "needs_background": "light"
          }
        }
      ]
    },
    {
      "cell_type": "code",
      "source": [
        "test_url = \"https://search.pstatic.net/common/?src=http%3A%2F%2Fblogfiles.naver.net%2FMjAyMjAzMDhfMjA0%2FMDAxNjQ2NzM4OTQyNjIx.uZiwjFdpDEk8YkU5M8HuE6FNOzgBRZYczsoGd8BjSjog.in4j-r_AibQhORGmTrHgDM7dMQLqbB7xjfEQapb1vLQg.JPEG.swh21004%2F%25B0%25A8%25C0%25DA5_20220307_205027822_09.jpg&type=sc960_832\"\n",
        "test_path = tf.keras.utils.get_file('1', origin=test_url)\n",
        "\n",
        "img = keras.preprocessing.image.load_img(\n",
        "    test_path, target_size=(img_height, img_width)\n",
        ")\n",
        "img_array = keras.preprocessing.image.img_to_array(img)\n",
        "img_array = tf.expand_dims(img_array, 0) # Create a batch\n",
        "\n",
        "predictions = model.predict(img_array)\n",
        "score = tf.nn.softmax(predictions[0])\n",
        "\n",
        "print(\n",
        "    \"This image most likely belongs to {} with a {:.2f} percent confidence.\"\n",
        "    .format(class_names[np.argmax(score)], 100 * np.max(score))\n",
        ")"
      ],
      "metadata": {
        "colab": {
          "base_uri": "https://localhost:8080/"
        },
        "id": "HXL9tlym8Cnb",
        "outputId": "6449a697-169b-456f-f83f-ea30c85eb6b9"
      },
      "execution_count": 37,
      "outputs": [
        {
          "output_type": "stream",
          "name": "stderr",
          "text": [
            "WARNING:tensorflow:5 out of the last 5 calls to <function Model.make_predict_function.<locals>.predict_function at 0x7faaa6ae4b90> triggered tf.function retracing. Tracing is expensive and the excessive number of tracings could be due to (1) creating @tf.function repeatedly in a loop, (2) passing tensors with different shapes, (3) passing Python objects instead of tensors. For (1), please define your @tf.function outside of the loop. For (2), @tf.function has reduce_retracing=True option that can avoid unnecessary retracing. For (3), please refer to https://www.tensorflow.org/guide/function#controlling_retracing and https://www.tensorflow.org/api_docs/python/tf/function for  more details.\n"
          ]
        },
        {
          "output_type": "stream",
          "name": "stdout",
          "text": [
            "1/1 [==============================] - 0s 154ms/step\n",
            "This image most likely belongs to 감자 with a 99.99 percent confidence.\n"
          ]
        }
      ]
    },
    {
      "cell_type": "markdown",
      "metadata": {
        "id": "pUktDodA6QTX"
      },
      "source": [
        "# ResNet 학습\n",
        "- residual block인가? 그거 쓰는 ResNet이라는 모델입니다.\n",
        "- 파라미터가 많아서 모델 용량이 600mb 정도 됩니다."
      ]
    },
    {
      "cell_type": "code",
      "execution_count": 25,
      "metadata": {
        "scrolled": false,
        "colab": {
          "base_uri": "https://localhost:8080/"
        },
        "id": "CCaoDH616QTY",
        "outputId": "6f5757c6-4b80-42ce-f146-911d3c713bae"
      },
      "outputs": [
        {
          "output_type": "stream",
          "name": "stdout",
          "text": [
            "Model: \"model_3\"\n",
            "_________________________________________________________________\n",
            " Layer (type)                Output Shape              Param #   \n",
            "=================================================================\n",
            " input_7 (InputLayer)        [(None, 224, 224, 3)]     0         \n",
            "                                                                 \n",
            " sequential_3 (Sequential)   (None, 224, 224, 3)       0         \n",
            "                                                                 \n",
            " rescaling_4 (Rescaling)     (None, 224, 224, 3)       0         \n",
            "                                                                 \n",
            " resnet152v2 (Functional)    (None, 3)                 58337795  \n",
            "                                                                 \n",
            "=================================================================\n",
            "Total params: 58,337,795\n",
            "Trainable params: 58,194,051\n",
            "Non-trainable params: 143,744\n",
            "_________________________________________________________________\n"
          ]
        }
      ],
      "source": [
        "from tensorflow import keras\n",
        "from tensorflow.keras import layers\n",
        "\n",
        "# 1번방법\n",
        "# Create a data augmentation stage with horizontal flipping, rotations, zooms\n",
        "data_augmentation = keras.Sequential(\n",
        "    [\n",
        "        layers.experimental.preprocessing.RandomFlip(\"horizontal\"),\n",
        "        layers.experimental.preprocessing.RandomRotation(0.3),\n",
        "        layers.experimental.preprocessing.RandomZoom(0.3),\n",
        "        layers.RandomCrop(height=224, width=224)\n",
        "    ]\n",
        ")\n",
        "\n",
        "# Create a model that includes the augmentation stage\n",
        "input_shape = (224, 224, 3)\n",
        "classes = 3\n",
        "inputs = keras.Input(shape=input_shape)\n",
        "# Augment images\n",
        "x = data_augmentation(inputs)\n",
        "# Rescale image values to [0, 1]\n",
        "x = layers.experimental.preprocessing.Rescaling(1.0 / 255)(x)\n",
        "# Add the rest of the model\n",
        "outputs = keras.applications.ResNet152V2(\n",
        "    weights=None, input_shape=input_shape, classes=classes, classifier_activation='softmax'\n",
        ")(x)\n",
        "model = keras.Model(inputs, outputs)\n",
        "\n",
        "model.summary()"
      ]
    },
    {
      "cell_type": "code",
      "execution_count": 26,
      "metadata": {
        "scrolled": true,
        "colab": {
          "base_uri": "https://localhost:8080/"
        },
        "id": "l8Y1Y3MM6QTZ",
        "outputId": "0ec9df53-b777-4f89-c89f-252a0e6fdaf6"
      },
      "outputs": [
        {
          "output_type": "stream",
          "name": "stdout",
          "text": [
            "Epoch 1/10\n",
            "11/11 [==============================] - 31s 1s/step - loss: 0.9104 - accuracy: 0.6735 - val_loss: 244583.5469 - val_accuracy: 0.2143\n",
            "Epoch 2/10\n",
            "11/11 [==============================] - 8s 746ms/step - loss: 0.3925 - accuracy: 0.8559 - val_loss: 39648.4688 - val_accuracy: 0.2143\n",
            "Epoch 3/10\n",
            "11/11 [==============================] - 8s 752ms/step - loss: 0.3573 - accuracy: 0.8971 - val_loss: 3999.1570 - val_accuracy: 0.2143\n",
            "Epoch 4/10\n",
            "11/11 [==============================] - 8s 753ms/step - loss: 0.2134 - accuracy: 0.9588 - val_loss: 52.9206 - val_accuracy: 0.2143\n",
            "Epoch 5/10\n",
            "11/11 [==============================] - 8s 758ms/step - loss: 0.1610 - accuracy: 0.9353 - val_loss: 30.2148 - val_accuracy: 0.2857\n",
            "Epoch 6/10\n",
            "11/11 [==============================] - 8s 765ms/step - loss: 0.2051 - accuracy: 0.9471 - val_loss: 1.9506 - val_accuracy: 0.5238\n",
            "Epoch 7/10\n",
            "11/11 [==============================] - 9s 778ms/step - loss: 0.1515 - accuracy: 0.9529 - val_loss: 2.2110 - val_accuracy: 0.5595\n",
            "Epoch 8/10\n",
            "11/11 [==============================] - 9s 784ms/step - loss: 0.0973 - accuracy: 0.9706 - val_loss: 2.7638 - val_accuracy: 0.4881\n",
            "Epoch 9/10\n",
            "11/11 [==============================] - 9s 778ms/step - loss: 0.0845 - accuracy: 0.9706 - val_loss: 4.1042 - val_accuracy: 0.4762\n",
            "Epoch 10/10\n",
            "11/11 [==============================] - 9s 780ms/step - loss: 0.1773 - accuracy: 0.9382 - val_loss: 2.5122 - val_accuracy: 0.5952\n"
          ]
        }
      ],
      "source": [
        "epochs=10\n",
        "model.compile(loss='sparse_categorical_crossentropy', metrics=['accuracy'], optimizer='adam') \n",
        "\n",
        "history = model.fit(\n",
        "  train_ds,\n",
        "  validation_data=val_ds,\n",
        "  epochs=epochs\n",
        ")"
      ]
    },
    {
      "cell_type": "code",
      "execution_count": 27,
      "metadata": {
        "id": "QyFRfS9d6QTX"
      },
      "outputs": [],
      "source": [
        "def graph(history):\n",
        "    acc = history.history['accuracy']\n",
        "    val_acc = history.history['val_accuracy']\n",
        "\n",
        "    loss=history.history['loss']\n",
        "    val_loss=history.history['val_loss']\n",
        "\n",
        "    # epochs_range =  history.epochs-history.initial_epoch #range(epochs)\n",
        "    epochs_range = range(epochs)\n",
        "\n",
        "    plt.figure(figsize=(8, 8))\n",
        "    plt.subplot(1, 2, 1)\n",
        "    plt.plot(epochs_range, acc, label='Training Accuracy')\n",
        "    plt.plot(epochs_range, val_acc, label='Validation Accuracy')\n",
        "    plt.legend(loc='lower right')\n",
        "    plt.title('Training and Validation Accuracy')\n",
        "\n",
        "    plt.subplot(1, 2, 2)\n",
        "    plt.plot(epochs_range, loss, label='Training Loss')\n",
        "    plt.plot(epochs_range, val_loss, label='Validation Loss')\n",
        "    plt.legend(loc='upper right')\n",
        "    plt.title('Training and Validation Loss')\n",
        "    plt.show()"
      ]
    },
    {
      "cell_type": "code",
      "execution_count": 28,
      "metadata": {
        "scrolled": false,
        "colab": {
          "base_uri": "https://localhost:8080/",
          "height": 499
        },
        "id": "2LzRurs26QTa",
        "outputId": "e6d8d6ec-55ca-43e1-eddc-2799c304c25a"
      },
      "outputs": [
        {
          "output_type": "display_data",
          "data": {
            "text/plain": [
              "<Figure size 576x576 with 2 Axes>"
            ],
            "image/png": "[encoded data removed]"
          },
          "metadata": {
            "needs_background": "light"
          }
        }
      ],
      "source": [
        "import matplotlib.pyplot as plt\n",
        "graph(history)"
      ]
    },
    {
      "cell_type": "code",
      "execution_count": 29,
      "metadata": {
        "colab": {
          "base_uri": "https://localhost:8080/"
        },
        "id": "tT--IFOO6QTg",
        "outputId": "23d9fd4f-023c-437c-b6bc-0aa14dc307ab"
      },
      "outputs": [
        {
          "output_type": "stream",
          "name": "stdout",
          "text": [
            "1/1 [==============================] - 3s 3s/step\n",
            "This image most likely belongs to 감자 with a 57.60 percent confidence.\n"
          ]
        }
      ],
      "source": [
        "test_url = \"https://search.pstatic.net/common/?src=http%3A%2F%2Fblogfiles.naver.net%2FMjAyMjAzMDhfMjA0%2FMDAxNjQ2NzM4OTQyNjIx.uZiwjFdpDEk8YkU5M8HuE6FNOzgBRZYczsoGd8BjSjog.in4j-r_AibQhORGmTrHgDM7dMQLqbB7xjfEQapb1vLQg.JPEG.swh21004%2F%25B0%25A8%25C0%25DA5_20220307_205027822_09.jpg&type=sc960_832\"\n",
        "test_path = tf.keras.utils.get_file('1', origin=test_url)\n",
        "\n",
        "img = keras.preprocessing.image.load_img(\n",
        "    test_path, target_size=(img_height, img_width)\n",
        ")\n",
        "img_array = keras.preprocessing.image.img_to_array(img)\n",
        "img_array = tf.expand_dims(img_array, 0) # Create a batch\n",
        "\n",
        "predictions = model.predict(img_array)\n",
        "score = tf.nn.softmax(predictions[0])\n",
        "\n",
        "print(\n",
        "    \"This image most likely belongs to {} with a {:.2f} percent confidence.\"\n",
        "    .format(class_names[np.argmax(score)], 100 * np.max(score))\n",
        ")"
      ]
    },
    {
      "cell_type": "markdown",
      "source": [
        "# MobileNet 학습\n",
        "- 파라미터수가 적고 빠른 모델입니다.\n",
        "- 최종 용량도 더 작아서 이걸로도 해볼게요.\n",
        "- 정확도가 구리긴한데 좀 조정해가면서 해봐야할거 같아요"
      ],
      "metadata": {
        "id": "Tfbu6NyJ0y5v"
      }
    },
    {
      "cell_type": "code",
      "source": [
        "from tensorflow import keras\n",
        "from tensorflow.keras import layers\n",
        "\n",
        "# 1번방법\n",
        "# Create a data augmentation stage with horizontal flipping, rotations, zooms\n",
        "data_augmentation = keras.Sequential(\n",
        "    [\n",
        "        layers.experimental.preprocessing.RandomFlip(\"horizontal\"),\n",
        "        layers.experimental.preprocessing.RandomRotation(0.3),\n",
        "        layers.experimental.preprocessing.RandomZoom(0.3),\n",
        "        layers.RandomCrop(height=224, width=224)\n",
        "    ]\n",
        ")\n",
        "\n",
        "# Create a model that includes the augmentation stage\n",
        "input_shape = (224, 224, 3)\n",
        "classes = 3\n",
        "inputs = keras.Input(shape=input_shape)\n",
        "# Augment images\n",
        "x = data_augmentation(inputs)\n",
        "# Rescale image values to [0, 1]\n",
        "x = layers.experimental.preprocessing.Rescaling(1.0 / 255)(x)\n",
        "# Add the rest of the model\n",
        "outputs = keras.applications.MobileNetV2(\n",
        "    weights=None, input_shape=input_shape, classes=classes, classifier_activation='softmax'\n",
        ")(x)\n",
        "model = keras.Model(inputs, outputs)\n",
        "\n",
        "model.summary()"
      ],
      "metadata": {
        "colab": {
          "base_uri": "https://localhost:8080/"
        },
        "id": "QPMixEPD03Ca",
        "outputId": "2637b658-7338-46e5-b730-1992318355e9"
      },
      "execution_count": 30,
      "outputs": [
        {
          "output_type": "stream",
          "name": "stdout",
          "text": [
            "Model: \"model_4\"\n",
            "_________________________________________________________________\n",
            " Layer (type)                Output Shape              Param #   \n",
            "=================================================================\n",
            " input_9 (InputLayer)        [(None, 224, 224, 3)]     0         \n",
            "                                                                 \n",
            " sequential_4 (Sequential)   (None, 224, 224, 3)       0         \n",
            "                                                                 \n",
            " rescaling_5 (Rescaling)     (None, 224, 224, 3)       0         \n",
            "                                                                 \n",
            " mobilenetv2_1.00_224 (Funct  (None, 3)                2261827   \n",
            " ional)                                                          \n",
            "                                                                 \n",
            "=================================================================\n",
            "Total params: 2,261,827\n",
            "Trainable params: 2,227,715\n",
            "Non-trainable params: 34,112\n",
            "_________________________________________________________________\n"
          ]
        }
      ]
    },
    {
      "cell_type": "code",
      "source": [
        "epochs=20\n",
        "model.compile(loss='sparse_categorical_crossentropy', metrics=['accuracy'], optimizer='adam') \n",
        "\n",
        "history = model.fit(\n",
        "  train_ds,\n",
        "  validation_data=val_ds,\n",
        "  epochs=epochs\n",
        ")"
      ],
      "metadata": {
        "colab": {
          "base_uri": "https://localhost:8080/"
        },
        "id": "bYB4ajg-1sZB",
        "outputId": "35b9e89d-4bd2-464e-fe59-ca589b6606e3"
      },
      "execution_count": 31,
      "outputs": [
        {
          "output_type": "stream",
          "name": "stdout",
          "text": [
            "Epoch 1/20\n",
            "11/11 [==============================] - 9s 309ms/step - loss: 1.1349 - accuracy: 0.5441 - val_loss: 1.0953 - val_accuracy: 0.3095\n",
            "Epoch 2/20\n",
            "11/11 [==============================] - 3s 238ms/step - loss: 0.5888 - accuracy: 0.7618 - val_loss: 1.0938 - val_accuracy: 0.4762\n",
            "Epoch 3/20\n",
            "11/11 [==============================] - 3s 252ms/step - loss: 0.3881 - accuracy: 0.8529 - val_loss: 1.0867 - val_accuracy: 0.4762\n",
            "Epoch 4/20\n",
            "11/11 [==============================] - 3s 238ms/step - loss: 0.2901 - accuracy: 0.8853 - val_loss: 1.0844 - val_accuracy: 0.4762\n",
            "Epoch 5/20\n",
            "11/11 [==============================] - 3s 235ms/step - loss: 0.2086 - accuracy: 0.9088 - val_loss: 1.0733 - val_accuracy: 0.4762\n",
            "Epoch 6/20\n",
            "11/11 [==============================] - 3s 233ms/step - loss: 0.2325 - accuracy: 0.9118 - val_loss: 1.0723 - val_accuracy: 0.4762\n",
            "Epoch 7/20\n",
            "11/11 [==============================] - 3s 234ms/step - loss: 0.2034 - accuracy: 0.9324 - val_loss: 1.0655 - val_accuracy: 0.4762\n",
            "Epoch 8/20\n",
            "11/11 [==============================] - 3s 235ms/step - loss: 0.1484 - accuracy: 0.9588 - val_loss: 1.0651 - val_accuracy: 0.4762\n",
            "Epoch 9/20\n",
            "11/11 [==============================] - 3s 236ms/step - loss: 0.1307 - accuracy: 0.9529 - val_loss: 1.0623 - val_accuracy: 0.4762\n",
            "Epoch 10/20\n",
            "11/11 [==============================] - 3s 238ms/step - loss: 0.1212 - accuracy: 0.9706 - val_loss: 1.0553 - val_accuracy: 0.4762\n",
            "Epoch 11/20\n",
            "11/11 [==============================] - 3s 237ms/step - loss: 0.1207 - accuracy: 0.9588 - val_loss: 1.0515 - val_accuracy: 0.4762\n",
            "Epoch 12/20\n",
            "11/11 [==============================] - 3s 238ms/step - loss: 0.1105 - accuracy: 0.9618 - val_loss: 1.0498 - val_accuracy: 0.4762\n",
            "Epoch 13/20\n",
            "11/11 [==============================] - 3s 234ms/step - loss: 0.1109 - accuracy: 0.9618 - val_loss: 1.0507 - val_accuracy: 0.4762\n",
            "Epoch 14/20\n",
            "11/11 [==============================] - 3s 240ms/step - loss: 0.0684 - accuracy: 0.9735 - val_loss: 1.0527 - val_accuracy: 0.4762\n",
            "Epoch 15/20\n",
            "11/11 [==============================] - 3s 240ms/step - loss: 0.0528 - accuracy: 0.9882 - val_loss: 1.0609 - val_accuracy: 0.4762\n",
            "Epoch 16/20\n",
            "11/11 [==============================] - 3s 236ms/step - loss: 0.0344 - accuracy: 0.9882 - val_loss: 1.0652 - val_accuracy: 0.4762\n",
            "Epoch 17/20\n",
            "11/11 [==============================] - 3s 234ms/step - loss: 0.0335 - accuracy: 0.9853 - val_loss: 1.0827 - val_accuracy: 0.4762\n",
            "Epoch 18/20\n",
            "11/11 [==============================] - 3s 235ms/step - loss: 0.0536 - accuracy: 0.9735 - val_loss: 1.0959 - val_accuracy: 0.4762\n",
            "Epoch 19/20\n",
            "11/11 [==============================] - 3s 238ms/step - loss: 0.0468 - accuracy: 0.9824 - val_loss: 1.1030 - val_accuracy: 0.4762\n",
            "Epoch 20/20\n",
            "11/11 [==============================] - 3s 232ms/step - loss: 0.0966 - accuracy: 0.9588 - val_loss: 1.1165 - val_accuracy: 0.4762\n"
          ]
        }
      ]
    },
    {
      "cell_type": "code",
      "source": [
        "def graph(history):\n",
        "    acc = history.history['accuracy']\n",
        "    val_acc = history.history['val_accuracy']\n",
        "\n",
        "    loss=history.history['loss']\n",
        "    val_loss=history.history['val_loss']\n",
        "\n",
        "    # epochs_range =  history.epochs-history.initial_epoch #range(epochs)\n",
        "    epochs_range = range(epochs)\n",
        "\n",
        "    plt.figure(figsize=(8, 8))\n",
        "    plt.subplot(1, 2, 1)\n",
        "    plt.plot(epochs_range, acc, label='Training Accuracy')\n",
        "    plt.plot(epochs_range, val_acc, label='Validation Accuracy')\n",
        "    plt.legend(loc='lower right')\n",
        "    plt.title('Training and Validation Accuracy')\n",
        "\n",
        "    plt.subplot(1, 2, 2)\n",
        "    plt.plot(epochs_range, loss, label='Training Loss')\n",
        "    plt.plot(epochs_range, val_loss, label='Validation Loss')\n",
        "    plt.legend(loc='upper right')\n",
        "    plt.title('Training and Validation Loss')\n",
        "    plt.show()"
      ],
      "metadata": {
        "id": "-8C74U_71yMi"
      },
      "execution_count": 32,
      "outputs": []
    },
    {
      "cell_type": "code",
      "source": [
        "import matplotlib.pyplot as plt\n",
        "graph(history)"
      ],
      "metadata": {
        "colab": {
          "base_uri": "https://localhost:8080/",
          "height": 499
        },
        "id": "hkso30vx11V6",
        "outputId": "306bcbd9-b959-46ca-af7a-1185f394bb17"
      },
      "execution_count": 33,
      "outputs": [
        {
          "output_type": "display_data",
          "data": {
            "text/plain": [
              "<Figure size 576x576 with 2 Axes>"
            ],
            "image/png": "[encoded data removed]"
          },
          "metadata": {
            "needs_background": "light"
          }
        }
      ]
    },
    {
      "cell_type": "code",
      "source": [
        "test_url = \"https://search.pstatic.net/common/?src=http%3A%2F%2Fblogfiles.naver.net%2FMjAyMjAzMDhfMjA0%2FMDAxNjQ2NzM4OTQyNjIx.uZiwjFdpDEk8YkU5M8HuE6FNOzgBRZYczsoGd8BjSjog.in4j-r_AibQhORGmTrHgDM7dMQLqbB7xjfEQapb1vLQg.JPEG.swh21004%2F%25B0%25A8%25C0%25DA5_20220307_205027822_09.jpg&type=sc960_832\"\n",
        "test_path = tf.keras.utils.get_file('1', origin=test_url)\n",
        "\n",
        "img = keras.preprocessing.image.load_img(\n",
        "    test_path, target_size=(img_height, img_width)\n",
        ")\n",
        "img_array = keras.preprocessing.image.img_to_array(img)\n",
        "img_array = tf.expand_dims(img_array, 0) # Create a batch\n",
        "\n",
        "predictions = model.predict(img_array)\n",
        "score = tf.nn.softmax(predictions[0])\n",
        "\n",
        "print(\n",
        "    \"This image most likely belongs to {} with a {:.2f} percent confidence.\"\n",
        "    .format(class_names[np.argmax(score)], 100 * np.max(score))\n",
        ")"
      ],
      "metadata": {
        "colab": {
          "base_uri": "https://localhost:8080/"
        },
        "id": "gRqzbEW913vo",
        "outputId": "b6027fc3-618b-468d-a7fc-7a187042b24d"
      },
      "execution_count": 24,
      "outputs": [
        {
          "output_type": "stream",
          "name": "stdout",
          "text": [
            "1/1 [==============================] - 1s 682ms/step\n",
            "This image most likely belongs to 감자 with a 40.17 percent confidence.\n"
          ]
        }
      ]
    },
    {
      "cell_type": "markdown",
      "source": [
        "# 모델 저장\n",
        "- 가장 테스트 정확도가 높은 잘나온 모델을 저장합니다.\n",
        "- 모델 이름은 구분하기 쉽게 해주세요. (ex-resnet_작업 일시)"
      ],
      "metadata": {
        "id": "5B1L0q6abbwQ"
      }
    },
    {
      "cell_type": "code",
      "execution_count": 38,
      "metadata": {
        "colab": {
          "base_uri": "https://localhost:8080/"
        },
        "id": "CAm0cutp6QTh",
        "outputId": "f2e0cbad-8504-47c9-fff0-91f27efd3b2c"
      },
      "outputs": [
        {
          "output_type": "stream",
          "name": "stderr",
          "text": [
            "WARNING:absl:Found untraced functions such as _jit_compiled_convolution_op, _jit_compiled_convolution_op, _jit_compiled_convolution_op while saving (showing 3 of 3). These functions will not be directly callable after loading.\n"
          ]
        }
      ],
      "source": [
        " model.save(\"CNN_11_09\")"
      ]
    },
    {
      "cell_type": "code",
      "source": [
        "!zip -r /content/model.zip /content/CNN_11_09"
      ],
      "metadata": {
        "colab": {
          "base_uri": "https://localhost:8080/"
        },
        "id": "psLvaIRMG2La",
        "outputId": "3ba29f27-1e1f-48a8-b7df-7a55af83067f"
      },
      "execution_count": 39,
      "outputs": [
        {
          "output_type": "stream",
          "name": "stdout",
          "text": [
            "  adding: content/CNN_11_09/ (stored 0%)\n",
            "  adding: content/CNN_11_09/assets/ (stored 0%)\n",
            "  adding: content/CNN_11_09/keras_metadata.pb (deflated 92%)\n",
            "  adding: content/CNN_11_09/variables/ (stored 0%)\n",
            "  adding: content/CNN_11_09/variables/variables.data-00000-of-00001 (deflated 16%)\n",
            "  adding: content/CNN_11_09/variables/variables.index (deflated 66%)\n",
            "  adding: content/CNN_11_09/saved_model.pb (deflated 89%)\n"
          ]
        }
      ]
    },
    {
      "cell_type": "markdown",
      "source": [
        "# 저장한 모델 드라이브로 옮기기\n",
        "- 본인 구글 드라이브 마운트 해서 원하는 경로에 저장해두면 됩니다."
      ],
      "metadata": {
        "id": "crzX5c33bPTy"
      }
    },
    {
      "cell_type": "code",
      "source": [
        "from google.colab import drive\n",
        "drive.mount('/content/drive')"
      ],
      "metadata": {
        "colab": {
          "base_uri": "https://localhost:8080/"
        },
        "id": "2qZ914sMadwc",
        "outputId": "dffa93d1-80fa-480f-b565-9f54bc1e4db3"
      },
      "execution_count": 40,
      "outputs": [
        {
          "output_type": "stream",
          "name": "stdout",
          "text": [
            "Mounted at /content/drive\n"
          ]
        }
      ]
    },
    {
      "cell_type": "code",
      "source": [
        "!cp model.zip /content/drive/MyDrive/model.zip"
      ],
      "metadata": {
        "id": "VuPtT35Zac8W"
      },
      "execution_count": 41,
      "outputs": []
    },
    {
      "cell_type": "code",
      "source": [],
      "metadata": {
        "id": "6K3s45Fo8g_H"
      },
      "execution_count": null,
      "outputs": []
    }
  ],
  "metadata": {
    "kernelspec": {
      "display_name": "Python 3",
      "language": "python",
      "name": "python3"
    },
    "language_info": {
      "codemirror_mode": {
        "name": "ipython",
        "version": 3
      },
      "file_extension": ".py",
      "mimetype": "text/x-python",
      "name": "python",
      "nbconvert_exporter": "python",
      "pygments_lexer": "ipython3",
      "version": "3.8.10"
    },
    "colab": {
      "provenance": [],
      "collapsed_sections": [
        "1WiGr3BR6QTF",
        "ePx8Vegu6QTQ",
        "lcErtSRd6QTV",
        "_bir5Yxe610V",
        "pUktDodA6QTX",
        "Tfbu6NyJ0y5v",
        "5B1L0q6abbwQ",
        "crzX5c33bPTy"
      ],
      "include_colab_link": true
    },
    "accelerator": "GPU",
    "gpuClass": "standard"
  },
  "nbformat": 4,
  "nbformat_minor": 0
}